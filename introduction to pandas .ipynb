{
 "cells": [
  {
   "cell_type": "markdown",
   "id": "2cd1ebb9",
   "metadata": {},
   "source": [
    "## We call pandas by using : \n"
   ]
  },
  {
   "cell_type": "code",
   "execution_count": 1,
   "id": "22f00fa9",
   "metadata": {},
   "outputs": [],
   "source": [
    "import pandas as pd"
   ]
  },
  {
   "cell_type": "markdown",
   "id": "e503cebc",
   "metadata": {},
   "source": [
    "#### pandas gives us values with index parameter, which means indexs are separate component "
   ]
  },
  {
   "cell_type": "code",
   "execution_count": 2,
   "id": "4ab98a0c",
   "metadata": {},
   "outputs": [
    {
     "data": {
      "text/plain": [
       "0     23\n",
       "1    423\n",
       "2     43\n",
       "3      2\n",
       "dtype: int64"
      ]
     },
     "execution_count": 2,
     "metadata": {},
     "output_type": "execute_result"
    }
   ],
   "source": [
    "pd.Series([23,423,43,2])"
   ]
  },
  {
   "cell_type": "markdown",
   "id": "cbe6bfd8",
   "metadata": {},
   "source": [
    "#### in order to see type & basic information"
   ]
  },
  {
   "cell_type": "code",
   "execution_count": 4,
   "id": "5d33f6bc",
   "metadata": {},
   "outputs": [
    {
     "data": {
      "text/plain": [
       "dtype('int64')"
      ]
     },
     "execution_count": 4,
     "metadata": {},
     "output_type": "execute_result"
    }
   ],
   "source": [
    "series = pd.Series([43,32,56,77,3])\n",
    "series.dtype"
   ]
  },
  {
   "cell_type": "code",
   "execution_count": 15,
   "id": "0197d6bd",
   "metadata": {},
   "outputs": [
    {
     "data": {
      "text/plain": [
       "pandas.core.series.Series"
      ]
     },
     "execution_count": 15,
     "metadata": {},
     "output_type": "execute_result"
    }
   ],
   "source": [
    "type(series)"
   ]
  },
  {
   "cell_type": "code",
   "execution_count": 6,
   "id": "42a8f09d",
   "metadata": {},
   "outputs": [
    {
     "data": {
      "text/plain": [
       "<bound method Series.keys of 0    43\n",
       "1    32\n",
       "2    56\n",
       "3    77\n",
       "4     3\n",
       "dtype: int64>"
      ]
     },
     "execution_count": 6,
     "metadata": {},
     "output_type": "execute_result"
    }
   ],
   "source": [
    "series.keys"
   ]
  },
  {
   "cell_type": "code",
   "execution_count": 7,
   "id": "dbcd8b9d",
   "metadata": {},
   "outputs": [
    {
     "data": {
      "text/plain": [
       "[(0, 43), (1, 32), (2, 56), (3, 77), (4, 3)]"
      ]
     },
     "execution_count": 7,
     "metadata": {},
     "output_type": "execute_result"
    }
   ],
   "source": [
    "list(series.items())"
   ]
  },
  {
   "cell_type": "code",
   "execution_count": 18,
   "id": "bd2b5252",
   "metadata": {},
   "outputs": [
    {
     "data": {
      "text/plain": [
       "[RangeIndex(start=0, stop=5, step=1)]"
      ]
     },
     "execution_count": 18,
     "metadata": {},
     "output_type": "execute_result"
    }
   ],
   "source": [
    "series.axes"
   ]
  },
  {
   "cell_type": "code",
   "execution_count": 20,
   "id": "21ce5a6b",
   "metadata": {},
   "outputs": [
    {
     "data": {
      "text/plain": [
       "1"
      ]
     },
     "execution_count": 20,
     "metadata": {},
     "output_type": "execute_result"
    }
   ],
   "source": [
    "series.ndim # how many dimension"
   ]
  },
  {
   "cell_type": "code",
   "execution_count": 22,
   "id": "5c35eed6",
   "metadata": {},
   "outputs": [
    {
     "data": {
      "text/plain": [
       "5"
      ]
     },
     "execution_count": 22,
     "metadata": {},
     "output_type": "execute_result"
    }
   ],
   "source": [
    "series.size"
   ]
  },
  {
   "cell_type": "code",
   "execution_count": 28,
   "id": "b83ea6d2",
   "metadata": {},
   "outputs": [
    {
     "data": {
      "text/plain": [
       "<PandasArray>\n",
       "[43, 32, 56, 77, 3]\n",
       "Length: 5, dtype: int64"
      ]
     },
     "execution_count": 28,
     "metadata": {},
     "output_type": "execute_result"
    }
   ],
   "source": [
    "series.array"
   ]
  },
  {
   "cell_type": "code",
   "execution_count": 29,
   "id": "33e74f55",
   "metadata": {},
   "outputs": [
    {
     "data": {
      "text/plain": [
       "array([43, 32, 56, 77,  3], dtype=int64)"
      ]
     },
     "execution_count": 29,
     "metadata": {},
     "output_type": "execute_result"
    }
   ],
   "source": [
    "series.values"
   ]
  },
  {
   "cell_type": "markdown",
   "id": "11fbedb7",
   "metadata": {},
   "source": [
    "#### we can change index parameters by using : "
   ]
  },
  {
   "cell_type": "code",
   "execution_count": 32,
   "id": "91d76534",
   "metadata": {},
   "outputs": [
    {
     "data": {
      "text/plain": [
       "a    32\n",
       "b    56\n",
       "c    45\n",
       "d    78\n",
       "dtype: int64"
      ]
     },
     "execution_count": 32,
     "metadata": {},
     "output_type": "execute_result"
    }
   ],
   "source": [
    "pd.Series([32,56,45,78], index = [\"a\",\"b\",\"c\",\"d\"])"
   ]
  },
  {
   "cell_type": "code",
   "execution_count": 10,
   "id": "04300c3e",
   "metadata": {},
   "outputs": [
    {
     "data": {
      "text/plain": [
       "reg     2\n",
       "loj     3\n",
       "cart    4\n",
       "rf      5\n",
       "dtype: int64"
      ]
     },
     "execution_count": 10,
     "metadata": {},
     "output_type": "execute_result"
    }
   ],
   "source": [
    "seri1 = pd.Series([2,3,4,5], index = [\"reg\",\"loj\",\"cart\",\"rf\"])\n",
    "seri1"
   ]
  },
  {
   "cell_type": "code",
   "execution_count": 12,
   "id": "2f3985db",
   "metadata": {},
   "outputs": [
    {
     "data": {
      "text/plain": [
       "[('reg', 2), ('loj', 3), ('cart', 4), ('rf', 5)]"
      ]
     },
     "execution_count": 12,
     "metadata": {},
     "output_type": "execute_result"
    }
   ],
   "source": [
    "list(seri1.items())"
   ]
  },
  {
   "cell_type": "code",
   "execution_count": 13,
   "id": "d10e3068",
   "metadata": {},
   "outputs": [
    {
     "data": {
      "text/plain": [
       "True"
      ]
     },
     "execution_count": 13,
     "metadata": {},
     "output_type": "execute_result"
    }
   ],
   "source": [
    "\"reg\" in seri1"
   ]
  },
  {
   "cell_type": "code",
   "execution_count": 15,
   "id": "8f6a37aa",
   "metadata": {},
   "outputs": [
    {
     "data": {
      "text/plain": [
       "False"
      ]
     },
     "execution_count": 15,
     "metadata": {},
     "output_type": "execute_result"
    }
   ],
   "source": [
    "\"fog\" in seri1"
   ]
  },
  {
   "cell_type": "markdown",
   "id": "9859e5d2",
   "metadata": {},
   "source": [
    "#### we can create dictionary : "
   ]
  },
  {
   "cell_type": "code",
   "execution_count": 35,
   "id": "d653f2fe",
   "metadata": {},
   "outputs": [
    {
     "data": {
      "text/plain": [
       "ten      10\n",
       "five      5\n",
       "seven     7\n",
       "dtype: int64"
      ]
     },
     "execution_count": 35,
     "metadata": {},
     "output_type": "execute_result"
    }
   ],
   "source": [
    "dic = pd.Series({\"ten\":10,\"five\":5, \"seven\":7})\n",
    "dic"
   ]
  },
  {
   "cell_type": "code",
   "execution_count": 39,
   "id": "f57946c2",
   "metadata": {},
   "outputs": [
    {
     "data": {
      "text/plain": [
       "ten      10\n",
       "five      5\n",
       "seven     7\n",
       "dtype: int64"
      ]
     },
     "execution_count": 39,
     "metadata": {},
     "output_type": "execute_result"
    }
   ],
   "source": [
    "dic = {\"ten\":10,\"five\":5, \"seven\":7}\n",
    "\n",
    "seri = pd.Series(dic)\n",
    "seri"
   ]
  },
  {
   "cell_type": "markdown",
   "id": "8c3e67a5",
   "metadata": {},
   "source": [
    "#### we can concatenate data like : & also concat can be useable only for DataFrame and Series "
   ]
  },
  {
   "cell_type": "code",
   "execution_count": 47,
   "id": "fe448bc8",
   "metadata": {},
   "outputs": [
    {
     "data": {
      "text/plain": [
       "ten      10\n",
       "five      5\n",
       "seven     7\n",
       "ten      10\n",
       "five      5\n",
       "seven     7\n",
       "dtype: int64"
      ]
     },
     "execution_count": 47,
     "metadata": {},
     "output_type": "execute_result"
    }
   ],
   "source": [
    "pd.concat([seri, seri,])"
   ]
  },
  {
   "cell_type": "markdown",
   "id": "dd90ac00",
   "metadata": {},
   "source": [
    "#### Fancy elements & Change"
   ]
  },
  {
   "cell_type": "code",
   "execution_count": 17,
   "id": "863d1756",
   "metadata": {},
   "outputs": [
    {
     "data": {
      "text/plain": [
       "rf     5\n",
       "reg    2\n",
       "dtype: int64"
      ]
     },
     "execution_count": 17,
     "metadata": {},
     "output_type": "execute_result"
    }
   ],
   "source": [
    "seri1[[\"rf\",\"reg\"]]"
   ]
  },
  {
   "cell_type": "code",
   "execution_count": 18,
   "id": "f70a0360",
   "metadata": {},
   "outputs": [],
   "source": [
    "seri1[\"reg\"] = 130"
   ]
  },
  {
   "cell_type": "code",
   "execution_count": 20,
   "id": "20d71a38",
   "metadata": {},
   "outputs": [
    {
     "data": {
      "text/plain": [
       "reg     130\n",
       "loj       3\n",
       "cart      4\n",
       "rf        5\n",
       "dtype: int64"
      ]
     },
     "execution_count": 20,
     "metadata": {},
     "output_type": "execute_result"
    }
   ],
   "source": [
    "seri1"
   ]
  }
 ],
 "metadata": {
  "kernelspec": {
   "display_name": "Python 3",
   "language": "python",
   "name": "python3"
  },
  "language_info": {
   "codemirror_mode": {
    "name": "ipython",
    "version": 3
   },
   "file_extension": ".py",
   "mimetype": "text/x-python",
   "name": "python",
   "nbconvert_exporter": "python",
   "pygments_lexer": "ipython3",
   "version": "3.8.8"
  }
 },
 "nbformat": 4,
 "nbformat_minor": 5
}
